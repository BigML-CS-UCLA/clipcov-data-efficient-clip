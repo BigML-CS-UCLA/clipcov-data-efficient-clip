{
 "cells": [
  {
   "cell_type": "code",
   "execution_count": 1,
   "metadata": {},
   "outputs": [],
   "source": [
    "import pandas as pd \n",
    "import numpy as np \n",
    "from tqdm import tqdm \n",
    "\n",
    "full = pd.read_csv(\"full_data.csv\")"
   ]
  },
  {
   "cell_type": "code",
   "execution_count": 2,
   "metadata": {},
   "outputs": [],
   "source": [
    "import pickle \n",
    "with open(\"openai_proxy_partition.pkl\", \"rb\") as f:\n",
    "    partition = pickle.load(f)"
   ]
  },
  {
   "cell_type": "code",
   "execution_count": 3,
   "metadata": {},
   "outputs": [
    {
     "name": "stderr",
     "output_type": "stream",
     "text": [
      "  0%|          | 0/1000 [00:00<?, ?it/s]"
     ]
    },
    {
     "name": "stderr",
     "output_type": "stream",
     "text": [
      "100%|██████████| 1000/1000 [00:12<00:00, 78.65it/s] \n"
     ]
    }
   ],
   "source": [
    "easiness = np.zeros(len(full))\n",
    "for class_num in tqdm(range(len(partition)), position=0):\n",
    "    easiness[partition[class_num]] += np.diag(np.load(f\"image-text-zero-cos-sim/{class_num}.npy\"))"
   ]
  },
  {
   "cell_type": "code",
   "execution_count": 4,
   "metadata": {},
   "outputs": [],
   "source": [
    "THRESHOLD = 0\n",
    "raw_scores = np.load(f\"easy+cross+ls+div-sim-selected-frac-ls-threshold=0.npy\")"
   ]
  },
  {
   "cell_type": "code",
   "execution_count": 5,
   "metadata": {},
   "outputs": [
    {
     "name": "stderr",
     "output_type": "stream",
     "text": [
      "100%|██████████| 1000/1000 [00:00<00:00, 2034.53it/s]\n"
     ]
    }
   ],
   "source": [
    "itc_sim = np.zeros(len(full))\n",
    "\n",
    "for class_num in tqdm(range(len(partition))):\n",
    "    itc_sim[partition[class_num]] += np.load(f\"image-text-center-zero-cos-sim/{class_num}.npy\")"
   ]
  },
  {
   "cell_type": "code",
   "execution_count": 6,
   "metadata": {},
   "outputs": [
    {
     "name": "stderr",
     "output_type": "stream",
     "text": [
      "100%|██████████| 1000/1000 [00:00<00:00, 1904.56it/s]\n"
     ]
    }
   ],
   "source": [
    "tic_sim = np.zeros(len(full))\n",
    "\n",
    "for class_num in tqdm(range(len(partition))):\n",
    "    tic_sim[partition[class_num]] += np.load(f\"text-image-center-zero-cos-sim/{class_num}.npy\")"
   ]
  },
  {
   "cell_type": "code",
   "execution_count": 7,
   "metadata": {},
   "outputs": [],
   "source": [
    "label_sim = np.load(\"openai_proxy_text_cos_sim.npy\")"
   ]
  },
  {
   "cell_type": "code",
   "execution_count": 8,
   "metadata": {},
   "outputs": [],
   "source": [
    "inverse_partition = {}\n",
    "\n",
    "for lc in range(1000):\n",
    "    for i in partition[lc]:\n",
    "        inverse_partition[i] = lc "
   ]
  },
  {
   "cell_type": "code",
   "execution_count": 9,
   "metadata": {},
   "outputs": [
    {
     "name": "stderr",
     "output_type": "stream",
     "text": [
      "100%|██████████| 1000/1000 [00:00<00:00, 2223.35it/s]\n"
     ]
    }
   ],
   "source": [
    "renorm_ls = np.zeros(len(full))\n",
    "\n",
    "for i in tqdm(range(len(partition))):\n",
    "    renorm_ls[partition[i]] += label_sim[partition[i], i]"
   ]
  },
  {
   "cell_type": "code",
   "execution_count": 10,
   "metadata": {},
   "outputs": [
    {
     "name": "stderr",
     "output_type": "stream",
     "text": [
      " 56%|█████▌    | 560/1000 [01:51<07:08,  1.03it/s]"
     ]
    }
   ],
   "source": [
    "it_sims = {}\n",
    "for i in tqdm(range(1000), position=0):\n",
    "    it_sims[i] = np.load(f\"image-text-zero-cos-sim/{i}.npy\")\n",
    "    if THRESHOLD is not None:\n",
    "        it_sims[i] *= (it_sims[i] > THRESHOLD)\n",
    "    it_sims[i] = it_sims[i].astype(\"float32\")"
   ]
  },
  {
   "cell_type": "code",
   "execution_count": null,
   "metadata": {},
   "outputs": [],
   "source": [
    "def cross_to_subset(class_num, subset):\n",
    "    convert_subset = []  \n",
    "    for i, idx in enumerate(partition[class_num]):\n",
    "        if idx in subset:\n",
    "            convert_subset.append(i)\n",
    "    return ((np.sum(it_sims[class_num][:, convert_subset], axis=1) + np.sum(it_sims[class_num][convert_subset, :], axis=0))) / len(partition[class_num])"
   ]
  },
  {
   "cell_type": "code",
   "execution_count": null,
   "metadata": {},
   "outputs": [],
   "source": [
    "def ls_of_subset(class_num, subset):\n",
    "    convert_subset = []  \n",
    "    for i, idx in enumerate(partition[class_num]):\n",
    "        if idx in subset:\n",
    "            convert_subset.append(i)\n",
    "    return (np.sum(renorm_ls[subset])/2) / len(partition[class_num])"
   ]
  },
  {
   "cell_type": "code",
   "execution_count": null,
   "metadata": {},
   "outputs": [],
   "source": [
    "subset_size = int(len(full) * 1 /10)\n",
    "scores = (raw_scores[:, 0] + 2*easiness + renorm_ls/2) - (tic_sim + itc_sim) \n",
    "actual_scores = scores.copy()"
   ]
  },
  {
   "cell_type": "code",
   "execution_count": 20,
   "metadata": {},
   "outputs": [
    {
     "name": "stderr",
     "output_type": "stream",
     "text": [
      "score=1.0438493142062784: 100%|█████████▉| 283780/283781 [09:20<00:00, 443.07it/s, sort_count=1250, sim-selected=0.014297999441623688, new_cross_deduction: 0.04337480014620724, ls_deduction=0.012095777075008172]   "
     ]
    }
   ],
   "source": [
    "scores = actual_scores.copy()\n",
    "subset = []\n",
    "counter = {}\n",
    "old_counter = {}\n",
    "selected = {}\n",
    "new_selected = {}\n",
    "for i in range(1000):\n",
    "    counter[i] = 0\n",
    "    old_counter[i] = 0\n",
    "    new_selected[i] = []\n",
    "    selected[i] = []\n",
    "    \n",
    "sorted_idx = np.argsort(scores)\n",
    "pbar = tqdm(total=subset_size, position=0)\n",
    "sort_count = 0\n",
    "\n",
    "while len(sorted_idx) > 0 and len(subset) < subset_size:\n",
    "    subset.append(sorted_idx[-1])\n",
    "    curr_partition = inverse_partition[subset[-1]]\n",
    "    selected[curr_partition].append(subset[-1])\n",
    "    new_selected[curr_partition].append(subset[-1])\n",
    "    counter[curr_partition] += 1\n",
    "    pbar.set_description_str(f\"score={scores[sorted_idx[-1]]}\")\n",
    "    pbar.update(1)\n",
    "\n",
    "    if (counter[curr_partition] + 1) % 200 == 0:\n",
    "        # deduct cross\n",
    "        sim_selected = cross_to_subset(curr_partition, new_selected[curr_partition])\n",
    "        scores[partition[curr_partition]] -= sim_selected\n",
    "        new_cross_deduction = (np.sum(raw_scores[selected[curr_partition], 0]))  / (len(partition[curr_partition]))\n",
    "        scores[partition[curr_partition]] -= new_cross_deduction\n",
    "        \n",
    "        # deduct ls of selected \n",
    "        ls_deduction = ls_of_subset(curr_partition, new_selected[curr_partition])\n",
    "        scores[partition[curr_partition]] -= ls_deduction\n",
    "        \n",
    "        # Re-sort \n",
    "        scores[subset] = -np.inf\n",
    "        sorted_idx = np.argsort(scores)[len(subset):]\n",
    "        sort_count += 1\n",
    "        old_counter[curr_partition] = counter[curr_partition]\n",
    "        pbar.set_postfix_str(f\"sort_count={sort_count}\")\n",
    "        \n",
    "        # Reset new selected\n",
    "        new_selected[curr_partition] = []\n",
    "    else:\n",
    "        sorted_idx = sorted_idx[:-1]"
   ]
  },
  {
   "cell_type": "code",
   "execution_count": 21,
   "metadata": {},
   "outputs": [
    {
     "name": "stdout",
     "output_type": "stream",
     "text": [
      "desired_subset_size: 283781 actual subset size: 283781\n"
     ]
    }
   ],
   "source": [
    "print(\"desired_subset_size:\", subset_size, \"actual subset size:\", len(subset))"
   ]
  },
  {
   "cell_type": "code",
   "execution_count": null,
   "metadata": {},
   "outputs": [
    {
     "name": "stderr",
     "output_type": "stream",
     "text": [
      "score=1.0438493142062784: 100%|██████████| 283781/283781 [09:33<00:00, 443.07it/s, sort_count=1250, sim-selected=0.014297999441623688, new_cross_deduction: 0.04337480014620724, ls_deduction=0.012095777075008172]"
     ]
    }
   ],
   "source": [
    "np.save(\"raw-clip-cov-10pct.npy\", subset)"
   ]
  },
  {
   "cell_type": "code",
   "execution_count": null,
   "metadata": {},
   "outputs": [],
   "source": [
    "FILENAME = \"clip-cov-10pct\"\n",
    "\n",
    "if FILENAME != \"\":\n",
    "    full.iloc[subset].to_csv(f\"/home/user/clip_subset/subsets/{FILENAME}\")"
   ]
  }
 ],
 "metadata": {
  "kernelspec": {
   "display_name": "clip",
   "language": "python",
   "name": "python3"
  },
  "language_info": {
   "codemirror_mode": {
    "name": "ipython",
    "version": 3
   },
   "file_extension": ".py",
   "mimetype": "text/x-python",
   "name": "python",
   "nbconvert_exporter": "python",
   "pygments_lexer": "ipython3",
   "version": "3.10.9"
  },
  "orig_nbformat": 4
 },
 "nbformat": 4,
 "nbformat_minor": 2
}
